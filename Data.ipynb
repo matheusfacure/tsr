{
 "cells": [
  {
   "cell_type": "code",
   "execution_count": 2,
   "id": "fa145c7b",
   "metadata": {
    "ExecuteTime": {
     "end_time": "2022-12-29T14:45:26.713424Z",
     "start_time": "2022-12-29T14:45:26.063573Z"
    }
   },
   "outputs": [],
   "source": [
    "import pandas as pd"
   ]
  },
  {
   "cell_type": "markdown",
   "id": "f1e91fb7",
   "metadata": {},
   "source": [
    "# IPCA"
   ]
  },
  {
   "cell_type": "code",
   "execution_count": 4,
   "id": "7dc5b5ce",
   "metadata": {
    "ExecuteTime": {
     "end_time": "2022-12-29T14:45:30.560045Z",
     "start_time": "2022-12-29T14:45:30.513685Z"
    }
   },
   "outputs": [
    {
     "data": {
      "text/html": [
       "<div>\n",
       "<style scoped>\n",
       "    .dataframe tbody tr th:only-of-type {\n",
       "        vertical-align: middle;\n",
       "    }\n",
       "\n",
       "    .dataframe tbody tr th {\n",
       "        vertical-align: top;\n",
       "    }\n",
       "\n",
       "    .dataframe thead th {\n",
       "        text-align: right;\n",
       "    }\n",
       "</style>\n",
       "<table border=\"1\" class=\"dataframe\">\n",
       "  <thead>\n",
       "    <tr style=\"text-align: right;\">\n",
       "      <th></th>\n",
       "      <th>ipca</th>\n",
       "      <th>date</th>\n",
       "    </tr>\n",
       "  </thead>\n",
       "  <tbody>\n",
       "    <tr>\n",
       "      <th>330</th>\n",
       "      <td>-0.0068</td>\n",
       "      <td>2022-07-01</td>\n",
       "    </tr>\n",
       "    <tr>\n",
       "      <th>331</th>\n",
       "      <td>-0.0036</td>\n",
       "      <td>2022-08-01</td>\n",
       "    </tr>\n",
       "    <tr>\n",
       "      <th>332</th>\n",
       "      <td>-0.0029</td>\n",
       "      <td>2022-09-01</td>\n",
       "    </tr>\n",
       "    <tr>\n",
       "      <th>333</th>\n",
       "      <td>0.0059</td>\n",
       "      <td>2022-10-01</td>\n",
       "    </tr>\n",
       "    <tr>\n",
       "      <th>334</th>\n",
       "      <td>0.0041</td>\n",
       "      <td>2022-11-01</td>\n",
       "    </tr>\n",
       "  </tbody>\n",
       "</table>\n",
       "</div>"
      ],
      "text/plain": [
       "       ipca       date\n",
       "330 -0.0068 2022-07-01\n",
       "331 -0.0036 2022-08-01\n",
       "332 -0.0029 2022-09-01\n",
       "333  0.0059 2022-10-01\n",
       "334  0.0041 2022-11-01"
      ]
     },
     "execution_count": 4,
     "metadata": {},
     "output_type": "execute_result"
    }
   ],
   "source": [
    "ipca = (pd.read_csv(\"/Users/matheus.facure/Downloads/20221227034122.csv\", sep=\";\", )\n",
    "        .T\n",
    "        .assign(date=pd.date_range(\"1994-07-01\", \"2022-12-01\", freq=\"M\")+pd.offsets.MonthBegin(-1))\n",
    "        .rename(columns={\"Brasil\": \"ipca\"})\n",
    "        .assign(ipca = lambda d: d[\"ipca\"]/100)\n",
    "        .query(\"date>='1995-01-01'\")\n",
    "        .reset_index(drop=True)\n",
    "       )\n",
    "\n",
    "\n",
    "ipca.to_csv(\"ipca.csv\", index=False)\n",
    "ipca.tail()"
   ]
  },
  {
   "cell_type": "markdown",
   "id": "fcbb2c13",
   "metadata": {},
   "source": [
    "# Dolar"
   ]
  },
  {
   "cell_type": "code",
   "execution_count": 21,
   "id": "b15cf0d2",
   "metadata": {
    "ExecuteTime": {
     "end_time": "2022-12-29T14:36:49.822867Z",
     "start_time": "2022-12-29T14:36:49.751496Z"
    }
   },
   "outputs": [
    {
     "data": {
      "text/html": [
       "<div>\n",
       "<style scoped>\n",
       "    .dataframe tbody tr th:only-of-type {\n",
       "        vertical-align: middle;\n",
       "    }\n",
       "\n",
       "    .dataframe tbody tr th {\n",
       "        vertical-align: top;\n",
       "    }\n",
       "\n",
       "    .dataframe thead th {\n",
       "        text-align: right;\n",
       "    }\n",
       "</style>\n",
       "<table border=\"1\" class=\"dataframe\">\n",
       "  <thead>\n",
       "    <tr style=\"text-align: right;\">\n",
       "      <th></th>\n",
       "      <th>date</th>\n",
       "      <th>dolar</th>\n",
       "    </tr>\n",
       "  </thead>\n",
       "  <tbody>\n",
       "    <tr>\n",
       "      <th>4999</th>\n",
       "      <td>1994-01-27</td>\n",
       "      <td>0.1609</td>\n",
       "    </tr>\n",
       "    <tr>\n",
       "      <th>4998</th>\n",
       "      <td>1994-01-28</td>\n",
       "      <td>0.1637</td>\n",
       "    </tr>\n",
       "    <tr>\n",
       "      <th>4997</th>\n",
       "      <td>1994-01-31</td>\n",
       "      <td>0.1668</td>\n",
       "    </tr>\n",
       "    <tr>\n",
       "      <th>4996</th>\n",
       "      <td>1994-02-01</td>\n",
       "      <td>0.1700</td>\n",
       "    </tr>\n",
       "    <tr>\n",
       "      <th>4995</th>\n",
       "      <td>1994-02-02</td>\n",
       "      <td>0.1732</td>\n",
       "    </tr>\n",
       "  </tbody>\n",
       "</table>\n",
       "</div>"
      ],
      "text/plain": [
       "           date   dolar\n",
       "4999 1994-01-27  0.1609\n",
       "4998 1994-01-28  0.1637\n",
       "4997 1994-01-31  0.1668\n",
       "4996 1994-02-01  0.1700\n",
       "4995 1994-02-02  0.1732"
      ]
     },
     "execution_count": 21,
     "metadata": {},
     "output_type": "execute_result"
    }
   ],
   "source": [
    "dolar1 = pd.read_csv(\"/Users/matheus.facure/Downloads/USD_BRL Dados Históricos.csv\")\n",
    "dolar2 = pd.read_csv(\"/Users/matheus.facure/Downloads/USD_BRL Dados Históricos (1).csv\")\n",
    "dolar = (pd.concat([dolar1, dolar2])\n",
    "         .drop_duplicates()\n",
    "         [[\"Data\", \"Último\"]]\n",
    "         .rename(columns={\"Data\":\"date\", \"Último\":\"dolar\"})\n",
    "         .assign(date=lambda d: pd.to_datetime(d[\"date\"], format=\"%d.%m.%Y\"),\n",
    "                 dolar=lambda d: pd.to_numeric(d[\"dolar\"].str.replace(\",\", \".\")))\n",
    "         .sort_values(\"date\"))\n",
    "\n",
    "dolar.head()"
   ]
  },
  {
   "cell_type": "code",
   "execution_count": 22,
   "id": "fdb4c7cc",
   "metadata": {
    "ExecuteTime": {
     "end_time": "2022-12-29T14:36:50.100317Z",
     "start_time": "2022-12-29T14:36:50.037802Z"
    }
   },
   "outputs": [],
   "source": [
    "dolar.to_csv(\"brl_usd.csv\", index=False)"
   ]
  },
  {
   "cell_type": "markdown",
   "id": "1b0667f3",
   "metadata": {},
   "source": [
    "# SELIC"
   ]
  },
  {
   "cell_type": "code",
   "execution_count": 23,
   "id": "dbeb3f20",
   "metadata": {
    "ExecuteTime": {
     "end_time": "2022-12-29T14:36:52.816738Z",
     "start_time": "2022-12-29T14:36:52.182755Z"
    }
   },
   "outputs": [],
   "source": [
    "selic_ = pd.read_html(\"http://www.ipeadata.gov.br/exibeserie.aspx?serid=38402\", match='Taxa de juros nominal - Over / Selic')[1]"
   ]
  },
  {
   "cell_type": "code",
   "execution_count": 24,
   "id": "bfa07ed3",
   "metadata": {
    "ExecuteTime": {
     "end_time": "2022-12-29T14:36:52.863478Z",
     "start_time": "2022-12-29T14:36:52.861545Z"
    }
   },
   "outputs": [],
   "source": [
    "def anual_to_monthly_rate(r):\n",
    "    return ((1 + r)**(1/12)) - 1\n"
   ]
  },
  {
   "cell_type": "code",
   "execution_count": 25,
   "id": "81c0ea0d",
   "metadata": {
    "ExecuteTime": {
     "end_time": "2022-12-29T14:36:53.089102Z",
     "start_time": "2022-12-29T14:36:53.070147Z"
    }
   },
   "outputs": [
    {
     "name": "stderr",
     "output_type": "stream",
     "text": [
      "/Users/matheus.facure/miniforge3/lib/python3.7/site-packages/ipykernel_launcher.py:4: FutureWarning: The default value of regex will change from True to False in a future version.\n",
      "  after removing the cwd from sys.path.\n"
     ]
    },
    {
     "data": {
      "text/html": [
       "<div>\n",
       "<style scoped>\n",
       "    .dataframe tbody tr th:only-of-type {\n",
       "        vertical-align: middle;\n",
       "    }\n",
       "\n",
       "    .dataframe tbody tr th {\n",
       "        vertical-align: top;\n",
       "    }\n",
       "\n",
       "    .dataframe thead th {\n",
       "        text-align: right;\n",
       "    }\n",
       "</style>\n",
       "<table border=\"1\" class=\"dataframe\">\n",
       "  <thead>\n",
       "    <tr style=\"text-align: right;\">\n",
       "      <th></th>\n",
       "      <th>date</th>\n",
       "      <th>selic</th>\n",
       "      <th>selic_aa</th>\n",
       "    </tr>\n",
       "  </thead>\n",
       "  <tbody>\n",
       "    <tr>\n",
       "      <th>247</th>\n",
       "      <td>1994-07-01</td>\n",
       "      <td>0.068701</td>\n",
       "      <td>1.2196</td>\n",
       "    </tr>\n",
       "    <tr>\n",
       "      <th>248</th>\n",
       "      <td>1994-08-01</td>\n",
       "      <td>0.041699</td>\n",
       "      <td>0.6327</td>\n",
       "    </tr>\n",
       "    <tr>\n",
       "      <th>249</th>\n",
       "      <td>1994-09-01</td>\n",
       "      <td>0.038300</td>\n",
       "      <td>0.5699</td>\n",
       "    </tr>\n",
       "    <tr>\n",
       "      <th>250</th>\n",
       "      <td>1994-10-01</td>\n",
       "      <td>0.036198</td>\n",
       "      <td>0.5322</td>\n",
       "    </tr>\n",
       "    <tr>\n",
       "      <th>251</th>\n",
       "      <td>1994-11-01</td>\n",
       "      <td>0.040699</td>\n",
       "      <td>0.6140</td>\n",
       "    </tr>\n",
       "  </tbody>\n",
       "</table>\n",
       "</div>"
      ],
      "text/plain": [
       "          date     selic  selic_aa\n",
       "247 1994-07-01  0.068701    1.2196\n",
       "248 1994-08-01  0.041699    0.6327\n",
       "249 1994-09-01  0.038300    0.5699\n",
       "250 1994-10-01  0.036198    0.5322\n",
       "251 1994-11-01  0.040699    0.6140"
      ]
     },
     "execution_count": 25,
     "metadata": {},
     "output_type": "execute_result"
    }
   ],
   "source": [
    "selic = (selic_\n",
    "         .drop(index=[0])\n",
    "         .rename(columns={0:\"date\", 1:\"selic\"})\n",
    "         .assign(selic_aa=lambda d: pd.to_numeric(d[\"selic\"].str.replace(\"\\.\", \"\").str.replace(\",\", \"\"))/10000,\n",
    "                 date=lambda d: pd.to_datetime(d[\"date\"]+\".01\", format=\"%Y.%m.%d\"))\n",
    "         .query(\"date>='1994-07-01'\")\n",
    "         .assign(selic = lambda d: anual_to_monthly_rate(d[\"selic_aa\"])))\n",
    "\n",
    "selic.head()"
   ]
  },
  {
   "cell_type": "code",
   "execution_count": 26,
   "id": "6251fb6b",
   "metadata": {
    "ExecuteTime": {
     "end_time": "2022-12-29T14:36:59.760549Z",
     "start_time": "2022-12-29T14:36:59.742754Z"
    }
   },
   "outputs": [],
   "source": [
    "selic.to_csv(\"selic.csv\", index=False)"
   ]
  },
  {
   "cell_type": "markdown",
   "id": "8206949b",
   "metadata": {},
   "source": [
    "# SP500"
   ]
  },
  {
   "cell_type": "code",
   "execution_count": 27,
   "id": "e810b51e",
   "metadata": {
    "ExecuteTime": {
     "end_time": "2022-12-29T14:37:02.635401Z",
     "start_time": "2022-12-29T14:37:02.547804Z"
    }
   },
   "outputs": [
    {
     "data": {
      "text/html": [
       "<div>\n",
       "<style scoped>\n",
       "    .dataframe tbody tr th:only-of-type {\n",
       "        vertical-align: middle;\n",
       "    }\n",
       "\n",
       "    .dataframe tbody tr th {\n",
       "        vertical-align: top;\n",
       "    }\n",
       "\n",
       "    .dataframe thead th {\n",
       "        text-align: right;\n",
       "    }\n",
       "</style>\n",
       "<table border=\"1\" class=\"dataframe\">\n",
       "  <thead>\n",
       "    <tr style=\"text-align: right;\">\n",
       "      <th></th>\n",
       "      <th>date</th>\n",
       "      <th>sp500</th>\n",
       "    </tr>\n",
       "  </thead>\n",
       "  <tbody>\n",
       "    <tr>\n",
       "      <th>4999</th>\n",
       "      <td>1994-01-03</td>\n",
       "      <td>465.4</td>\n",
       "    </tr>\n",
       "    <tr>\n",
       "      <th>4998</th>\n",
       "      <td>1994-01-04</td>\n",
       "      <td>466.9</td>\n",
       "    </tr>\n",
       "    <tr>\n",
       "      <th>4997</th>\n",
       "      <td>1994-01-05</td>\n",
       "      <td>467.6</td>\n",
       "    </tr>\n",
       "    <tr>\n",
       "      <th>4996</th>\n",
       "      <td>1994-01-06</td>\n",
       "      <td>467.1</td>\n",
       "    </tr>\n",
       "    <tr>\n",
       "      <th>4995</th>\n",
       "      <td>1994-01-07</td>\n",
       "      <td>469.9</td>\n",
       "    </tr>\n",
       "  </tbody>\n",
       "</table>\n",
       "</div>"
      ],
      "text/plain": [
       "           date  sp500\n",
       "4999 1994-01-03  465.4\n",
       "4998 1994-01-04  466.9\n",
       "4997 1994-01-05  467.6\n",
       "4996 1994-01-06  467.1\n",
       "4995 1994-01-07  469.9"
      ]
     },
     "execution_count": 27,
     "metadata": {},
     "output_type": "execute_result"
    }
   ],
   "source": [
    "sp500_1 = pd.read_csv(\"/Users/matheus.facure/Downloads/S&P 500 Historical Data.csv\")\n",
    "sp500_2 = pd.read_csv(\"/Users/matheus.facure/Downloads/S&P 500 Historical Data (1).csv\")\n",
    "\n",
    "sp500 = (pd.concat([sp500_1, sp500_2]).drop_duplicates()\n",
    "         .assign(date=lambda d: pd.to_datetime(d[\"Date\"], format=\"%m/%d/%Y\"),\n",
    "                 sp500=lambda d: pd.to_numeric(d[\"Price\"].str.replace(\",\", \"\")))\n",
    "         [[\"date\", \"sp500\"]]\n",
    "         .query(\"date>='1994-01-01'\")\n",
    "         .sort_values(\"date\"))\n",
    "\n",
    "sp500.head()"
   ]
  },
  {
   "cell_type": "code",
   "execution_count": 28,
   "id": "dd7ba426",
   "metadata": {
    "ExecuteTime": {
     "end_time": "2022-12-29T14:37:18.166202Z",
     "start_time": "2022-12-29T14:37:18.094312Z"
    }
   },
   "outputs": [],
   "source": [
    "sp500.to_csv(\"sp500.csv\", index=False)"
   ]
  }
 ],
 "metadata": {
  "kernelspec": {
   "display_name": "Python [conda env:root] *",
   "language": "python",
   "name": "conda-root-py"
  },
  "language_info": {
   "codemirror_mode": {
    "name": "ipython",
    "version": 3
   },
   "file_extension": ".py",
   "mimetype": "text/x-python",
   "name": "python",
   "nbconvert_exporter": "python",
   "pygments_lexer": "ipython3",
   "version": "3.7.12"
  },
  "toc": {
   "base_numbering": 1,
   "nav_menu": {},
   "number_sections": true,
   "sideBar": true,
   "skip_h1_title": false,
   "title_cell": "Table of Contents",
   "title_sidebar": "Contents",
   "toc_cell": false,
   "toc_position": {},
   "toc_section_display": true,
   "toc_window_display": false
  },
  "varInspector": {
   "cols": {
    "lenName": 16,
    "lenType": 16,
    "lenVar": 40
   },
   "kernels_config": {
    "python": {
     "delete_cmd_postfix": "",
     "delete_cmd_prefix": "del ",
     "library": "var_list.py",
     "varRefreshCmd": "print(var_dic_list())"
    },
    "r": {
     "delete_cmd_postfix": ") ",
     "delete_cmd_prefix": "rm(",
     "library": "var_list.r",
     "varRefreshCmd": "cat(var_dic_list()) "
    }
   },
   "types_to_exclude": [
    "module",
    "function",
    "builtin_function_or_method",
    "instance",
    "_Feature"
   ],
   "window_display": false
  }
 },
 "nbformat": 4,
 "nbformat_minor": 5
}
