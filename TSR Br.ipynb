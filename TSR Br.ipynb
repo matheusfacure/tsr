{
 "cells": [
  {
   "cell_type": "code",
   "execution_count": 1,
   "id": "fa145c7b",
   "metadata": {
    "ExecuteTime": {
     "end_time": "2022-12-29T14:38:20.696109Z",
     "start_time": "2022-12-29T14:38:20.189055Z"
    }
   },
   "outputs": [],
   "source": [
    "from toolz.curried import *\n",
    "import pandas as pd"
   ]
  },
  {
   "cell_type": "code",
   "execution_count": 24,
   "id": "89b70e49",
   "metadata": {
    "ExecuteTime": {
     "end_time": "2022-12-29T17:55:17.291586Z",
     "start_time": "2022-12-29T17:55:17.256306Z"
    }
   },
   "outputs": [],
   "source": [
    "sp500 = pd.read_csv(\"sp500.csv\").astype({\"date\":\"datetime64[ns]\"})\n",
    "selic = pd.read_csv(\"selic.csv\").astype({\"date\":\"datetime64[ns]\"})\n",
    "dolar = pd.read_csv(\"brl_usd.csv\").astype({\"date\":\"datetime64[ns]\"})\n",
    "ipca = pd.read_csv(\"ipca.csv\").astype({\"date\":\"datetime64[ns]\"})"
   ]
  },
  {
   "cell_type": "markdown",
   "id": "e092cf40",
   "metadata": {},
   "source": [
    "## Merge on SP500 Data"
   ]
  },
  {
   "cell_type": "code",
   "execution_count": 106,
   "id": "b3ba5cc6",
   "metadata": {
    "ExecuteTime": {
     "end_time": "2022-12-29T19:23:42.832591Z",
     "start_time": "2022-12-29T19:23:42.804843Z"
    }
   },
   "outputs": [
    {
     "data": {
      "text/html": [
       "<div>\n",
       "<style scoped>\n",
       "    .dataframe tbody tr th:only-of-type {\n",
       "        vertical-align: middle;\n",
       "    }\n",
       "\n",
       "    .dataframe tbody tr th {\n",
       "        vertical-align: top;\n",
       "    }\n",
       "\n",
       "    .dataframe thead th {\n",
       "        text-align: right;\n",
       "    }\n",
       "</style>\n",
       "<table border=\"1\" class=\"dataframe\">\n",
       "  <thead>\n",
       "    <tr style=\"text-align: right;\">\n",
       "      <th></th>\n",
       "      <th>date</th>\n",
       "      <th>sp500</th>\n",
       "      <th>month</th>\n",
       "    </tr>\n",
       "  </thead>\n",
       "  <tbody>\n",
       "    <tr>\n",
       "      <th>0</th>\n",
       "      <td>1994-01-27</td>\n",
       "      <td>76.76539</td>\n",
       "      <td>1994-01</td>\n",
       "    </tr>\n",
       "    <tr>\n",
       "      <th>1</th>\n",
       "      <td>1994-01-28</td>\n",
       "      <td>78.36319</td>\n",
       "      <td>1994-01</td>\n",
       "    </tr>\n",
       "    <tr>\n",
       "      <th>2</th>\n",
       "      <td>1994-01-31</td>\n",
       "      <td>80.33088</td>\n",
       "      <td>1994-01</td>\n",
       "    </tr>\n",
       "    <tr>\n",
       "      <th>3</th>\n",
       "      <td>1994-02-01</td>\n",
       "      <td>81.53200</td>\n",
       "      <td>1994-02</td>\n",
       "    </tr>\n",
       "    <tr>\n",
       "      <th>4</th>\n",
       "      <td>1994-02-02</td>\n",
       "      <td>83.48240</td>\n",
       "      <td>1994-02</td>\n",
       "    </tr>\n",
       "  </tbody>\n",
       "</table>\n",
       "</div>"
      ],
      "text/plain": [
       "        date     sp500    month\n",
       "0 1994-01-27  76.76539  1994-01\n",
       "1 1994-01-28  78.36319  1994-01\n",
       "2 1994-01-31  80.33088  1994-01\n",
       "3 1994-02-01  81.53200  1994-02\n",
       "4 1994-02-02  83.48240  1994-02"
      ]
     },
     "execution_count": 106,
     "metadata": {},
     "output_type": "execute_result"
    }
   ],
   "source": [
    "daily_data = (sp500\n",
    "              .merge(dolar)\n",
    "              .assign(month=lambda d: d[\"date\"].dt.to_period(\"M\"))\n",
    "              .assign(sp500=lambda d: d[\"sp500\"] * d[\"dolar\"]) # convert sp500 to BRL\n",
    "              .drop(columns=[\"dolar\"]))\n",
    "\n",
    "daily_data.head()"
   ]
  },
  {
   "cell_type": "code",
   "execution_count": 104,
   "id": "f1c6593b",
   "metadata": {
    "ExecuteTime": {
     "end_time": "2022-12-29T19:23:22.748595Z",
     "start_time": "2022-12-29T19:23:22.713361Z"
    }
   },
   "outputs": [
    {
     "data": {
      "text/html": [
       "<div>\n",
       "<style scoped>\n",
       "    .dataframe tbody tr th:only-of-type {\n",
       "        vertical-align: middle;\n",
       "    }\n",
       "\n",
       "    .dataframe tbody tr th {\n",
       "        vertical-align: top;\n",
       "    }\n",
       "\n",
       "    .dataframe thead th {\n",
       "        text-align: right;\n",
       "    }\n",
       "</style>\n",
       "<table border=\"1\" class=\"dataframe\">\n",
       "  <thead>\n",
       "    <tr style=\"text-align: right;\">\n",
       "      <th></th>\n",
       "      <th>sp500</th>\n",
       "      <th>date</th>\n",
       "    </tr>\n",
       "  </thead>\n",
       "  <tbody>\n",
       "    <tr>\n",
       "      <th>0</th>\n",
       "      <td>0.046447</td>\n",
       "      <td>1994-01-01</td>\n",
       "    </tr>\n",
       "    <tr>\n",
       "      <th>1</th>\n",
       "      <td>0.327418</td>\n",
       "      <td>1994-02-01</td>\n",
       "    </tr>\n",
       "    <tr>\n",
       "      <th>2</th>\n",
       "      <td>0.354286</td>\n",
       "      <td>1994-03-01</td>\n",
       "    </tr>\n",
       "    <tr>\n",
       "      <th>3</th>\n",
       "      <td>0.437367</td>\n",
       "      <td>1994-04-01</td>\n",
       "    </tr>\n",
       "    <tr>\n",
       "      <th>4</th>\n",
       "      <td>0.427734</td>\n",
       "      <td>1994-05-01</td>\n",
       "    </tr>\n",
       "  </tbody>\n",
       "</table>\n",
       "</div>"
      ],
      "text/plain": [
       "      sp500       date\n",
       "0  0.046447 1994-01-01\n",
       "1  0.327418 1994-02-01\n",
       "2  0.354286 1994-03-01\n",
       "3  0.437367 1994-04-01\n",
       "4  0.427734 1994-05-01"
      ]
     },
     "execution_count": 104,
     "metadata": {},
     "output_type": "execute_result"
    }
   ],
   "source": [
    "month_start = (\n",
    "    daily_data\n",
    "    .assign(\n",
    "        start_date = lambda d: d.groupby(\"month\")[\"date\"].transform(\"min\"),\n",
    "    )\n",
    "    .query(\"date==start_date\")\n",
    "    .set_index(\"month\")\n",
    "    [[\"sp500\"]]\n",
    ")\n",
    "\n",
    "month_end = (\n",
    "    daily_data\n",
    "    .assign(\n",
    "        end_date = lambda d: d.groupby(\"month\")[\"date\"].transform(\"max\"),\n",
    "    )\n",
    "    .query(\"date==end_date\")\n",
    "    .set_index(\"month\")\n",
    "    [[\"sp500\"]]\n",
    ")\n",
    "\n",
    "\n",
    "monthly_growth = (((month_end - month_start)/month_start)\n",
    "                  .reset_index()\n",
    "                  .assign(date=lambda d:d[\"month\"].dt.to_timestamp())\n",
    "                  .drop(columns=\"month\"))\n",
    "\n",
    "monthly_growth.head()"
   ]
  },
  {
   "cell_type": "code",
   "execution_count": 105,
   "id": "718738d4",
   "metadata": {
    "ExecuteTime": {
     "end_time": "2022-12-29T19:23:26.694408Z",
     "start_time": "2022-12-29T19:23:26.666336Z"
    }
   },
   "outputs": [
    {
     "data": {
      "text/html": [
       "<div>\n",
       "<style scoped>\n",
       "    .dataframe tbody tr th:only-of-type {\n",
       "        vertical-align: middle;\n",
       "    }\n",
       "\n",
       "    .dataframe tbody tr th {\n",
       "        vertical-align: top;\n",
       "    }\n",
       "\n",
       "    .dataframe thead th {\n",
       "        text-align: right;\n",
       "    }\n",
       "</style>\n",
       "<table border=\"1\" class=\"dataframe\">\n",
       "  <thead>\n",
       "    <tr style=\"text-align: right;\">\n",
       "      <th></th>\n",
       "      <th>date</th>\n",
       "      <th>selic</th>\n",
       "      <th>selic_aa</th>\n",
       "      <th>ipca</th>\n",
       "      <th>sp500</th>\n",
       "    </tr>\n",
       "  </thead>\n",
       "  <tbody>\n",
       "    <tr>\n",
       "      <th>6</th>\n",
       "      <td>1995-01-01</td>\n",
       "      <td>0.033697</td>\n",
       "      <td>0.4884</td>\n",
       "      <td>0.0170</td>\n",
       "      <td>0.020364</td>\n",
       "    </tr>\n",
       "    <tr>\n",
       "      <th>7</th>\n",
       "      <td>1995-02-01</td>\n",
       "      <td>0.032497</td>\n",
       "      <td>0.4678</td>\n",
       "      <td>0.0102</td>\n",
       "      <td>0.048467</td>\n",
       "    </tr>\n",
       "    <tr>\n",
       "      <th>8</th>\n",
       "      <td>1995-03-01</td>\n",
       "      <td>0.042598</td>\n",
       "      <td>0.6497</td>\n",
       "      <td>0.0155</td>\n",
       "      <td>0.091106</td>\n",
       "    </tr>\n",
       "    <tr>\n",
       "      <th>9</th>\n",
       "      <td>1995-04-01</td>\n",
       "      <td>0.042598</td>\n",
       "      <td>0.6497</td>\n",
       "      <td>0.0243</td>\n",
       "      <td>0.040242</td>\n",
       "    </tr>\n",
       "    <tr>\n",
       "      <th>10</th>\n",
       "      <td>1995-05-01</td>\n",
       "      <td>0.042498</td>\n",
       "      <td>0.6478</td>\n",
       "      <td>0.0267</td>\n",
       "      <td>0.024690</td>\n",
       "    </tr>\n",
       "  </tbody>\n",
       "</table>\n",
       "</div>"
      ],
      "text/plain": [
       "         date     selic  selic_aa    ipca     sp500\n",
       "6  1995-01-01  0.033697    0.4884  0.0170  0.020364\n",
       "7  1995-02-01  0.032497    0.4678  0.0102  0.048467\n",
       "8  1995-03-01  0.042598    0.6497  0.0155  0.091106\n",
       "9  1995-04-01  0.042598    0.6497  0.0243  0.040242\n",
       "10 1995-05-01  0.042498    0.6478  0.0267  0.024690"
      ]
     },
     "execution_count": 105,
     "metadata": {},
     "output_type": "execute_result"
    }
   ],
   "source": [
    "data = (selic\n",
    "        .merge(ipca, how=\"left\")\n",
    "        .merge(monthly_growth)\n",
    "        .query(\"date>='1995-01-01'\")\n",
    "        .query(\"date<'2022-12-01'\"))\n",
    "\n",
    "data.head()"
   ]
  },
  {
   "cell_type": "code",
   "execution_count": 94,
   "id": "125f47be",
   "metadata": {
    "ExecuteTime": {
     "end_time": "2022-12-29T19:18:15.262958Z",
     "start_time": "2022-12-29T19:18:15.244058Z"
    }
   },
   "outputs": [
    {
     "data": {
      "text/html": [
       "<div>\n",
       "<style scoped>\n",
       "    .dataframe tbody tr th:only-of-type {\n",
       "        vertical-align: middle;\n",
       "    }\n",
       "\n",
       "    .dataframe tbody tr th {\n",
       "        vertical-align: top;\n",
       "    }\n",
       "\n",
       "    .dataframe thead th {\n",
       "        text-align: right;\n",
       "    }\n",
       "</style>\n",
       "<table border=\"1\" class=\"dataframe\">\n",
       "  <thead>\n",
       "    <tr style=\"text-align: right;\">\n",
       "      <th></th>\n",
       "      <th>date</th>\n",
       "      <th>selic</th>\n",
       "      <th>selic_aa</th>\n",
       "      <th>ipca</th>\n",
       "      <th>sp500</th>\n",
       "      <th>dolar</th>\n",
       "    </tr>\n",
       "  </thead>\n",
       "  <tbody>\n",
       "    <tr>\n",
       "      <th>6</th>\n",
       "      <td>1995-01-01</td>\n",
       "      <td>0.033697</td>\n",
       "      <td>0.4884</td>\n",
       "      <td>0.0170</td>\n",
       "      <td>0.024613</td>\n",
       "      <td>-0.004147</td>\n",
       "    </tr>\n",
       "    <tr>\n",
       "      <th>7</th>\n",
       "      <td>1995-02-01</td>\n",
       "      <td>0.032497</td>\n",
       "      <td>0.4678</td>\n",
       "      <td>0.0102</td>\n",
       "      <td>0.036139</td>\n",
       "      <td>0.011898</td>\n",
       "    </tr>\n",
       "    <tr>\n",
       "      <th>8</th>\n",
       "      <td>1995-03-01</td>\n",
       "      <td>0.042598</td>\n",
       "      <td>0.6497</td>\n",
       "      <td>0.0155</td>\n",
       "      <td>0.031096</td>\n",
       "      <td>0.058201</td>\n",
       "    </tr>\n",
       "    <tr>\n",
       "      <th>9</th>\n",
       "      <td>1995-04-01</td>\n",
       "      <td>0.042598</td>\n",
       "      <td>0.6497</td>\n",
       "      <td>0.0243</td>\n",
       "      <td>0.025503</td>\n",
       "      <td>0.014373</td>\n",
       "    </tr>\n",
       "    <tr>\n",
       "      <th>10</th>\n",
       "      <td>1995-05-01</td>\n",
       "      <td>0.042498</td>\n",
       "      <td>0.6478</td>\n",
       "      <td>0.0267</td>\n",
       "      <td>0.037138</td>\n",
       "      <td>-0.012002</td>\n",
       "    </tr>\n",
       "    <tr>\n",
       "      <th>...</th>\n",
       "      <td>...</td>\n",
       "      <td>...</td>\n",
       "      <td>...</td>\n",
       "      <td>...</td>\n",
       "      <td>...</td>\n",
       "      <td>...</td>\n",
       "    </tr>\n",
       "    <tr>\n",
       "      <th>336</th>\n",
       "      <td>2022-07-01</td>\n",
       "      <td>0.010296</td>\n",
       "      <td>0.1308</td>\n",
       "      <td>-0.0068</td>\n",
       "      <td>0.079721</td>\n",
       "      <td>-0.029563</td>\n",
       "    </tr>\n",
       "    <tr>\n",
       "      <th>337</th>\n",
       "      <td>2022-08-01</td>\n",
       "      <td>0.011700</td>\n",
       "      <td>0.1498</td>\n",
       "      <td>-0.0036</td>\n",
       "      <td>-0.039729</td>\n",
       "      <td>-0.000135</td>\n",
       "    </tr>\n",
       "    <tr>\n",
       "      <th>338</th>\n",
       "      <td>2022-09-01</td>\n",
       "      <td>0.010698</td>\n",
       "      <td>0.1362</td>\n",
       "      <td>-0.0029</td>\n",
       "      <td>-0.096104</td>\n",
       "      <td>0.033158</td>\n",
       "    </tr>\n",
       "    <tr>\n",
       "      <th>339</th>\n",
       "      <td>2022-10-01</td>\n",
       "      <td>0.010200</td>\n",
       "      <td>0.1295</td>\n",
       "      <td>0.0059</td>\n",
       "      <td>0.052618</td>\n",
       "      <td>0.002303</td>\n",
       "    </tr>\n",
       "    <tr>\n",
       "      <th>340</th>\n",
       "      <td>2022-11-01</td>\n",
       "      <td>0.010200</td>\n",
       "      <td>0.1295</td>\n",
       "      <td>0.0041</td>\n",
       "      <td>0.058092</td>\n",
       "      <td>0.007305</td>\n",
       "    </tr>\n",
       "  </tbody>\n",
       "</table>\n",
       "<p>335 rows × 6 columns</p>\n",
       "</div>"
      ],
      "text/plain": [
       "          date     selic  selic_aa    ipca     sp500     dolar\n",
       "6   1995-01-01  0.033697    0.4884  0.0170  0.024613 -0.004147\n",
       "7   1995-02-01  0.032497    0.4678  0.0102  0.036139  0.011898\n",
       "8   1995-03-01  0.042598    0.6497  0.0155  0.031096  0.058201\n",
       "9   1995-04-01  0.042598    0.6497  0.0243  0.025503  0.014373\n",
       "10  1995-05-01  0.042498    0.6478  0.0267  0.037138 -0.012002\n",
       "..         ...       ...       ...     ...       ...       ...\n",
       "336 2022-07-01  0.010296    0.1308 -0.0068  0.079721 -0.029563\n",
       "337 2022-08-01  0.011700    0.1498 -0.0036 -0.039729 -0.000135\n",
       "338 2022-09-01  0.010698    0.1362 -0.0029 -0.096104  0.033158\n",
       "339 2022-10-01  0.010200    0.1295  0.0059  0.052618  0.002303\n",
       "340 2022-11-01  0.010200    0.1295  0.0041  0.058092  0.007305\n",
       "\n",
       "[335 rows x 6 columns]"
      ]
     },
     "execution_count": 94,
     "metadata": {},
     "output_type": "execute_result"
    }
   ],
   "source": [
    "data"
   ]
  },
  {
   "cell_type": "code",
   "execution_count": null,
   "id": "9bb63cc6",
   "metadata": {},
   "outputs": [],
   "source": []
  },
  {
   "cell_type": "markdown",
   "id": "4cf59bc2",
   "metadata": {},
   "source": [
    "## Simulation"
   ]
  },
  {
   "cell_type": "code",
   "execution_count": 114,
   "id": "5c39c402",
   "metadata": {
    "ExecuteTime": {
     "end_time": "2022-12-29T19:28:40.752430Z",
     "start_time": "2022-12-29T19:28:40.732226Z"
    }
   },
   "outputs": [],
   "source": [
    "from toolz.curried import *\n",
    "from typing import Dict\n",
    "\n",
    "\n",
    "def withdraw(r: float,\n",
    "             inflation: float,\n",
    "             weights: Dict[str, float],\n",
    "             portfolio: Dict[str, float],\n",
    "             tax: float = 0.15):\n",
    "\n",
    "    total = sum(portfolio.values())\n",
    "    withdraw_amount = total * r * (1 + inflation) / (1 - tax)\n",
    "\n",
    "    w_diff = {a: (w / total) - weights.get(a) for a, w in portfolio.items()}\n",
    "    w_diff = sorted(w_diff.items(), key=lambda x: x[1], reverse=True)\n",
    "\n",
    "    total_to_withdraw = withdraw_amount\n",
    "    updated_portfolio = dict()\n",
    "\n",
    "    for asset, _ in w_diff:\n",
    "        to_withdraw = min(total_to_withdraw, portfolio.get(asset))\n",
    "        updated_portfolio[asset] = portfolio.get(asset) - to_withdraw\n",
    "        total_to_withdraw -= to_withdraw\n",
    "\n",
    "    return {\"amount\": withdraw_amount * (1 - tax),\n",
    "            \"portfolio\": updated_portfolio}\n",
    "\n",
    "\n",
    "def grow(portfolio: Dict[str, float],\n",
    "         asset_growth: Dict[str, float]):\n",
    "    return {asset: value*(1+asset_growth.get(asset))\n",
    "            for asset, value in portfolio.items()}\n",
    "\n",
    "\n",
    "\n",
    "def rebalance(portfolio, weights, tax=0.15):\n",
    "    \n",
    "    if any([v>0 for v in weights.values()]):\n",
    "        return portfolio\n",
    "    \n",
    "    total = sum(portfolio.values())\n",
    "    w_diff = {a:(w/total)-weights.get(a) for a, w in portfolio.items()}\n",
    "    withdraw_from = max(w_diff, key=w_diff.get)\n",
    "    withdraw_to = min(w_diff, key=w_diff.get)\n",
    "    \n",
    "    A1 = portfolio.get(withdraw_from)\n",
    "    A2 = total - A1\n",
    "    w1 = weights.get(withdraw_from)\n",
    "    \n",
    "    A1_ = (A1+A2-A1*tx)/((1/w1) - tax)\n",
    "    A2_ = A1_/w1 - A1_\n",
    "    \n",
    "    return {withdraw_from: A1_, withdraw_to: A2_}"
   ]
  },
  {
   "cell_type": "markdown",
   "id": "d22821e8",
   "metadata": {},
   "source": [
    "### Test Functions"
   ]
  },
  {
   "cell_type": "code",
   "execution_count": 109,
   "id": "03440b13",
   "metadata": {
    "ExecuteTime": {
     "end_time": "2022-12-29T19:27:50.618675Z",
     "start_time": "2022-12-29T19:27:50.599135Z"
    }
   },
   "outputs": [
    {
     "data": {
      "text/plain": [
       "{'selic': 500000.0, 'sp500': 500000.0}"
      ]
     },
     "execution_count": 109,
     "metadata": {},
     "output_type": "execute_result"
    }
   ],
   "source": [
    "balance = 1000000\n",
    "weights = {\"selic\": 0.5, \"sp500\": 0.5}\n",
    "portfolio = {asset: w*balance for asset, w in weights.items()}\n",
    "# portfolio = {\"selic\": 0.3*balance, \"sp500\": 0.7*balance}\n",
    "anual_wr = 0.04\n",
    "monthly_wr = anual_wr/12\n",
    "\n",
    "portfolio"
   ]
  },
  {
   "cell_type": "code",
   "execution_count": 116,
   "id": "691c358a",
   "metadata": {
    "ExecuteTime": {
     "end_time": "2022-12-29T19:28:56.576955Z",
     "start_time": "2022-12-29T19:28:56.561289Z"
    }
   },
   "outputs": [
    {
     "data": {
      "text/plain": [
       "{'date': Timestamp('1995-01-01 00:00:00'),\n",
       " 'selic': 0.03369711721997,\n",
       " 'selic_aa': 0.4884,\n",
       " 'ipca': 0.017,\n",
       " 'sp500': 0.02036438488243523}"
      ]
     },
     "execution_count": 116,
     "metadata": {},
     "output_type": "execute_result"
    }
   ],
   "source": [
    "m1 = data.iloc[0].to_dict()\n",
    "m1"
   ]
  },
  {
   "cell_type": "code",
   "execution_count": 111,
   "id": "e3d824f5",
   "metadata": {
    "ExecuteTime": {
     "end_time": "2022-12-29T19:27:57.940175Z",
     "start_time": "2022-12-29T19:27:57.927457Z"
    }
   },
   "outputs": [
    {
     "data": {
      "text/plain": [
       "{'amount': 3390.0,\n",
       " 'portfolio': {'selic': 496011.76470588235, 'sp500': 500000.0}}"
      ]
     },
     "execution_count": 111,
     "metadata": {},
     "output_type": "execute_result"
    }
   ],
   "source": [
    "new_portfolio = withdraw(monthly_wr, m1.get(\"ipca\"), weights, portfolio)\n",
    "new_portfolio"
   ]
  },
  {
   "cell_type": "code",
   "execution_count": 118,
   "id": "ff3159ce",
   "metadata": {
    "ExecuteTime": {
     "end_time": "2022-12-29T19:29:50.066874Z",
     "start_time": "2022-12-29T19:29:50.052472Z"
    }
   },
   "outputs": [
    {
     "data": {
      "text/plain": [
       "{'selic': 512725.93128366064, 'sp500': 510182.19244121766}"
      ]
     },
     "execution_count": 118,
     "metadata": {},
     "output_type": "execute_result"
    }
   ],
   "source": [
    "new_portfolio_g = grow(new_portfolio.get(\"portfolio\"),\n",
    "                       asset_growth=m1)\n",
    "\n",
    "new_portfolio_g"
   ]
  },
  {
   "cell_type": "code",
   "execution_count": 370,
   "id": "5df473bc",
   "metadata": {
    "ExecuteTime": {
     "end_time": "2022-12-28T18:45:46.137536Z",
     "start_time": "2022-12-28T18:45:46.134668Z"
    }
   },
   "outputs": [
    {
     "data": {
      "text/plain": [
       "{'selic': 0.0, 'sp500': 1016294.9316297865}"
      ]
     },
     "execution_count": 370,
     "metadata": {},
     "output_type": "execute_result"
    }
   ],
   "source": [
    "rebalance(new_portfolio_g, weights)"
   ]
  },
  {
   "cell_type": "code",
   "execution_count": 371,
   "id": "ea5e8312",
   "metadata": {
    "ExecuteTime": {
     "end_time": "2022-12-28T18:45:50.019025Z",
     "start_time": "2022-12-28T18:45:50.005116Z"
    }
   },
   "outputs": [
    {
     "data": {
      "text/plain": [
       "{'selic': 1200000.0, 'sp500': 1800000.0}"
      ]
     },
     "execution_count": 371,
     "metadata": {},
     "output_type": "execute_result"
    }
   ],
   "source": [
    "balance = 3000000\n",
    "weights = {\"selic\": 0.4, \"sp500\": 0.6}\n",
    "portfolio = {asset: w*balance for asset, w in weights.items()}\n",
    "anual_wr = 0.04\n",
    "monthly_wr = anual_wr/12\n",
    "\n",
    "portfolio"
   ]
  },
  {
   "cell_type": "code",
   "execution_count": 372,
   "id": "05f130ff",
   "metadata": {
    "ExecuteTime": {
     "end_time": "2022-12-28T18:45:51.136621Z",
     "start_time": "2022-12-28T18:45:51.129718Z"
    }
   },
   "outputs": [
    {
     "data": {
      "text/html": [
       "<div>\n",
       "<style scoped>\n",
       "    .dataframe tbody tr th:only-of-type {\n",
       "        vertical-align: middle;\n",
       "    }\n",
       "\n",
       "    .dataframe tbody tr th {\n",
       "        vertical-align: top;\n",
       "    }\n",
       "\n",
       "    .dataframe thead th {\n",
       "        text-align: right;\n",
       "    }\n",
       "</style>\n",
       "<table border=\"1\" class=\"dataframe\">\n",
       "  <thead>\n",
       "    <tr style=\"text-align: right;\">\n",
       "      <th></th>\n",
       "      <th>date</th>\n",
       "      <th>selic</th>\n",
       "      <th>selic_aa</th>\n",
       "      <th>ipca</th>\n",
       "      <th>sp500</th>\n",
       "      <th>dolar</th>\n",
       "    </tr>\n",
       "  </thead>\n",
       "  <tbody>\n",
       "    <tr>\n",
       "      <th>0</th>\n",
       "      <td>1995-01-01</td>\n",
       "      <td>0.033697</td>\n",
       "      <td>0.4884</td>\n",
       "      <td>0.0170</td>\n",
       "      <td>0.024613</td>\n",
       "      <td>-0.004147</td>\n",
       "    </tr>\n",
       "    <tr>\n",
       "      <th>1</th>\n",
       "      <td>1995-02-01</td>\n",
       "      <td>0.032497</td>\n",
       "      <td>0.4678</td>\n",
       "      <td>0.0102</td>\n",
       "      <td>0.036139</td>\n",
       "      <td>0.011898</td>\n",
       "    </tr>\n",
       "    <tr>\n",
       "      <th>2</th>\n",
       "      <td>1995-03-01</td>\n",
       "      <td>0.042598</td>\n",
       "      <td>0.6497</td>\n",
       "      <td>0.0155</td>\n",
       "      <td>0.031096</td>\n",
       "      <td>0.058201</td>\n",
       "    </tr>\n",
       "    <tr>\n",
       "      <th>3</th>\n",
       "      <td>1995-04-01</td>\n",
       "      <td>0.042598</td>\n",
       "      <td>0.6497</td>\n",
       "      <td>0.0243</td>\n",
       "      <td>0.025503</td>\n",
       "      <td>0.014373</td>\n",
       "    </tr>\n",
       "    <tr>\n",
       "      <th>4</th>\n",
       "      <td>1995-05-01</td>\n",
       "      <td>0.042498</td>\n",
       "      <td>0.6478</td>\n",
       "      <td>0.0267</td>\n",
       "      <td>0.037138</td>\n",
       "      <td>-0.012002</td>\n",
       "    </tr>\n",
       "    <tr>\n",
       "      <th>5</th>\n",
       "      <td>1995-06-01</td>\n",
       "      <td>0.040398</td>\n",
       "      <td>0.6084</td>\n",
       "      <td>0.0226</td>\n",
       "      <td>0.021181</td>\n",
       "      <td>0.014120</td>\n",
       "    </tr>\n",
       "    <tr>\n",
       "      <th>6</th>\n",
       "      <td>1995-07-01</td>\n",
       "      <td>0.040198</td>\n",
       "      <td>0.6047</td>\n",
       "      <td>0.0236</td>\n",
       "      <td>0.027417</td>\n",
       "      <td>0.017187</td>\n",
       "    </tr>\n",
       "    <tr>\n",
       "      <th>7</th>\n",
       "      <td>1995-08-01</td>\n",
       "      <td>0.038399</td>\n",
       "      <td>0.5717</td>\n",
       "      <td>0.0099</td>\n",
       "      <td>0.004110</td>\n",
       "      <td>0.015079</td>\n",
       "    </tr>\n",
       "    <tr>\n",
       "      <th>8</th>\n",
       "      <td>1995-09-01</td>\n",
       "      <td>0.033198</td>\n",
       "      <td>0.4798</td>\n",
       "      <td>0.0099</td>\n",
       "      <td>0.036538</td>\n",
       "      <td>0.003369</td>\n",
       "    </tr>\n",
       "    <tr>\n",
       "      <th>9</th>\n",
       "      <td>1995-10-01</td>\n",
       "      <td>0.030901</td>\n",
       "      <td>0.4408</td>\n",
       "      <td>0.0141</td>\n",
       "      <td>-0.000344</td>\n",
       "      <td>0.003549</td>\n",
       "    </tr>\n",
       "  </tbody>\n",
       "</table>\n",
       "</div>"
      ],
      "text/plain": [
       "        date     selic  selic_aa    ipca     sp500     dolar\n",
       "0 1995-01-01  0.033697    0.4884  0.0170  0.024613 -0.004147\n",
       "1 1995-02-01  0.032497    0.4678  0.0102  0.036139  0.011898\n",
       "2 1995-03-01  0.042598    0.6497  0.0155  0.031096  0.058201\n",
       "3 1995-04-01  0.042598    0.6497  0.0243  0.025503  0.014373\n",
       "4 1995-05-01  0.042498    0.6478  0.0267  0.037138 -0.012002\n",
       "5 1995-06-01  0.040398    0.6084  0.0226  0.021181  0.014120\n",
       "6 1995-07-01  0.040198    0.6047  0.0236  0.027417  0.017187\n",
       "7 1995-08-01  0.038399    0.5717  0.0099  0.004110  0.015079\n",
       "8 1995-09-01  0.033198    0.4798  0.0099  0.036538  0.003369\n",
       "9 1995-10-01  0.030901    0.4408  0.0141 -0.000344  0.003549"
      ]
     },
     "execution_count": 372,
     "metadata": {},
     "output_type": "execute_result"
    }
   ],
   "source": [
    "data.head(10)"
   ]
  },
  {
   "cell_type": "code",
   "execution_count": 332,
   "id": "7305b2ed",
   "metadata": {
    "ExecuteTime": {
     "end_time": "2022-12-28T18:32:01.805032Z",
     "start_time": "2022-12-28T18:32:01.795796Z"
    }
   },
   "outputs": [
    {
     "data": {
      "text/plain": [
       "{'selic': 400000.0, 'sp500': 600000.0}"
      ]
     },
     "execution_count": 332,
     "metadata": {},
     "output_type": "execute_result"
    }
   ],
   "source": [
    "balance = 1000000\n",
    "weights = {\"selic\": 0.4, \"sp500\": 0.6}\n",
    "portfolio = {asset: w*balance for asset, w in weights.items()}\n",
    "# portfolio = {\"selic\": 0.3*balance, \"sp500\": 0.7*balance}\n",
    "anual_wr = 0.04\n",
    "monthly_wr = anual_wr/12\n",
    "\n",
    "portfolio"
   ]
  },
  {
   "cell_type": "code",
   "execution_count": 435,
   "id": "0e103b4d",
   "metadata": {
    "ExecuteTime": {
     "end_time": "2022-12-28T19:08:20.927155Z",
     "start_time": "2022-12-28T19:08:20.869822Z"
    }
   },
   "outputs": [
    {
     "data": {
      "text/html": [
       "<div>\n",
       "<style scoped>\n",
       "    .dataframe tbody tr th:only-of-type {\n",
       "        vertical-align: middle;\n",
       "    }\n",
       "\n",
       "    .dataframe tbody tr th {\n",
       "        vertical-align: top;\n",
       "    }\n",
       "\n",
       "    .dataframe thead th {\n",
       "        text-align: right;\n",
       "    }\n",
       "</style>\n",
       "<table border=\"1\" class=\"dataframe\">\n",
       "  <thead>\n",
       "    <tr style=\"text-align: right;\">\n",
       "      <th></th>\n",
       "      <th>selic</th>\n",
       "      <th>sp500</th>\n",
       "      <th>ammount</th>\n",
       "      <th>total</th>\n",
       "      <th>date</th>\n",
       "      <th>ipca</th>\n",
       "      <th>dolar_g</th>\n",
       "      <th>sp500_g</th>\n",
       "      <th>selic_g</th>\n",
       "    </tr>\n",
       "  </thead>\n",
       "  <tbody>\n",
       "    <tr>\n",
       "      <th>0</th>\n",
       "      <td>149478.30</td>\n",
       "      <td>348782.70</td>\n",
       "      <td>0.00</td>\n",
       "      <td>498261.00</td>\n",
       "      <td>1900-01-01</td>\n",
       "      <td>0.0000</td>\n",
       "      <td>0.000000</td>\n",
       "      <td>0.000000</td>\n",
       "      <td>0.000000</td>\n",
       "    </tr>\n",
       "    <tr>\n",
       "      <th>1</th>\n",
       "      <td>152461.14</td>\n",
       "      <td>355885.45</td>\n",
       "      <td>1689.10</td>\n",
       "      <td>508346.59</td>\n",
       "      <td>1995-01-01</td>\n",
       "      <td>0.0170</td>\n",
       "      <td>-0.004147</td>\n",
       "      <td>0.024613</td>\n",
       "      <td>0.033697</td>\n",
       "    </tr>\n",
       "    <tr>\n",
       "      <th>2</th>\n",
       "      <td>157415.71</td>\n",
       "      <td>371022.73</td>\n",
       "      <td>1711.77</td>\n",
       "      <td>528438.44</td>\n",
       "      <td>1995-02-01</td>\n",
       "      <td>0.0102</td>\n",
       "      <td>0.011898</td>\n",
       "      <td>0.036139</td>\n",
       "      <td>0.032497</td>\n",
       "    </tr>\n",
       "    <tr>\n",
       "      <th>3</th>\n",
       "      <td>164121.38</td>\n",
       "      <td>402529.12</td>\n",
       "      <td>1788.76</td>\n",
       "      <td>566650.50</td>\n",
       "      <td>1995-03-01</td>\n",
       "      <td>0.0155</td>\n",
       "      <td>0.058201</td>\n",
       "      <td>0.031096</td>\n",
       "      <td>0.042598</td>\n",
       "    </tr>\n",
       "    <tr>\n",
       "      <th>4</th>\n",
       "      <td>171112.70</td>\n",
       "      <td>416360.03</td>\n",
       "      <td>1934.73</td>\n",
       "      <td>587472.73</td>\n",
       "      <td>1995-04-01</td>\n",
       "      <td>0.0243</td>\n",
       "      <td>0.014373</td>\n",
       "      <td>0.025503</td>\n",
       "      <td>0.042598</td>\n",
       "    </tr>\n",
       "    <tr>\n",
       "      <th>...</th>\n",
       "      <td>...</td>\n",
       "      <td>...</td>\n",
       "      <td>...</td>\n",
       "      <td>...</td>\n",
       "      <td>...</td>\n",
       "      <td>...</td>\n",
       "      <td>...</td>\n",
       "      <td>...</td>\n",
       "      <td>...</td>\n",
       "    </tr>\n",
       "    <tr>\n",
       "      <th>331</th>\n",
       "      <td>1257215.29</td>\n",
       "      <td>4094400.19</td>\n",
       "      <td>17123.29</td>\n",
       "      <td>5351615.48</td>\n",
       "      <td>2022-07-01</td>\n",
       "      <td>-0.0068</td>\n",
       "      <td>-0.029563</td>\n",
       "      <td>0.079721</td>\n",
       "      <td>0.010296</td>\n",
       "    </tr>\n",
       "    <tr>\n",
       "      <th>332</th>\n",
       "      <td>1271925.02</td>\n",
       "      <td>3911124.22</td>\n",
       "      <td>17774.50</td>\n",
       "      <td>5183049.24</td>\n",
       "      <td>2022-08-01</td>\n",
       "      <td>-0.0036</td>\n",
       "      <td>-0.000135</td>\n",
       "      <td>-0.039729</td>\n",
       "      <td>0.011700</td>\n",
       "    </tr>\n",
       "    <tr>\n",
       "      <th>333</th>\n",
       "      <td>1285531.56</td>\n",
       "      <td>3633544.40</td>\n",
       "      <td>17226.73</td>\n",
       "      <td>4919075.96</td>\n",
       "      <td>2022-09-01</td>\n",
       "      <td>-0.0029</td>\n",
       "      <td>0.033158</td>\n",
       "      <td>-0.096104</td>\n",
       "      <td>0.010698</td>\n",
       "    </tr>\n",
       "    <tr>\n",
       "      <th>334</th>\n",
       "      <td>1298643.45</td>\n",
       "      <td>3813068.59</td>\n",
       "      <td>16493.66</td>\n",
       "      <td>5111712.04</td>\n",
       "      <td>2022-10-01</td>\n",
       "      <td>0.0059</td>\n",
       "      <td>0.002303</td>\n",
       "      <td>0.052618</td>\n",
       "      <td>0.010200</td>\n",
       "    </tr>\n",
       "    <tr>\n",
       "      <th>335</th>\n",
       "      <td>1311889.08</td>\n",
       "      <td>4042596.46</td>\n",
       "      <td>17108.90</td>\n",
       "      <td>5354485.54</td>\n",
       "      <td>2022-11-01</td>\n",
       "      <td>0.0041</td>\n",
       "      <td>0.007305</td>\n",
       "      <td>0.058092</td>\n",
       "      <td>0.010200</td>\n",
       "    </tr>\n",
       "  </tbody>\n",
       "</table>\n",
       "<p>336 rows × 9 columns</p>\n",
       "</div>"
      ],
      "text/plain": [
       "          selic       sp500   ammount       total       date    ipca  \\\n",
       "0     149478.30   348782.70      0.00   498261.00 1900-01-01  0.0000   \n",
       "1     152461.14   355885.45   1689.10   508346.59 1995-01-01  0.0170   \n",
       "2     157415.71   371022.73   1711.77   528438.44 1995-02-01  0.0102   \n",
       "3     164121.38   402529.12   1788.76   566650.50 1995-03-01  0.0155   \n",
       "4     171112.70   416360.03   1934.73   587472.73 1995-04-01  0.0243   \n",
       "..          ...         ...       ...         ...        ...     ...   \n",
       "331  1257215.29  4094400.19  17123.29  5351615.48 2022-07-01 -0.0068   \n",
       "332  1271925.02  3911124.22  17774.50  5183049.24 2022-08-01 -0.0036   \n",
       "333  1285531.56  3633544.40  17226.73  4919075.96 2022-09-01 -0.0029   \n",
       "334  1298643.45  3813068.59  16493.66  5111712.04 2022-10-01  0.0059   \n",
       "335  1311889.08  4042596.46  17108.90  5354485.54 2022-11-01  0.0041   \n",
       "\n",
       "      dolar_g   sp500_g   selic_g  \n",
       "0    0.000000  0.000000  0.000000  \n",
       "1   -0.004147  0.024613  0.033697  \n",
       "2    0.011898  0.036139  0.032497  \n",
       "3    0.058201  0.031096  0.042598  \n",
       "4    0.014373  0.025503  0.042598  \n",
       "..        ...       ...       ...  \n",
       "331 -0.029563  0.079721  0.010296  \n",
       "332 -0.000135 -0.039729  0.011700  \n",
       "333  0.033158 -0.096104  0.010698  \n",
       "334  0.002303  0.052618  0.010200  \n",
       "335  0.007305  0.058092  0.010200  \n",
       "\n",
       "[336 rows x 9 columns]"
      ]
     },
     "execution_count": 435,
     "metadata": {},
     "output_type": "execute_result"
    }
   ],
   "source": [
    "sim_result = simulate_portfolio_evol(\n",
    "    balance=498261,\n",
    "    weights = {\"selic\": 0.3, \"sp500\": .7},\n",
    "    anual_wr = 0.04,\n",
    "    growth_df=data\n",
    ")\n",
    "\n",
    "sim_result\n",
    "# pd.to_datetime(sim_result[\"date\"])"
   ]
  },
  {
   "cell_type": "code",
   "execution_count": 415,
   "id": "85b43484",
   "metadata": {
    "ExecuteTime": {
     "end_time": "2022-12-28T19:00:55.658561Z",
     "start_time": "2022-12-28T19:00:55.647009Z"
    }
   },
   "outputs": [
    {
     "data": {
      "text/plain": [
       "1"
      ]
     },
     "execution_count": 415,
     "metadata": {},
     "output_type": "execute_result"
    }
   ],
   "source": [
    "pd.Timestamp(\"1995-01-01\").month"
   ]
  },
  {
   "cell_type": "code",
   "execution_count": 436,
   "id": "979cbbc2",
   "metadata": {
    "ExecuteTime": {
     "end_time": "2022-12-28T19:09:07.119886Z",
     "start_time": "2022-12-28T19:09:07.105383Z"
    }
   },
   "outputs": [
    {
     "data": {
      "text/plain": [
       "2999531.2199999997"
      ]
     },
     "execution_count": 436,
     "metadata": {},
     "output_type": "execute_result"
    }
   ],
   "source": [
    "498261.00*(1+5.02)"
   ]
  },
  {
   "cell_type": "code",
   "execution_count": 419,
   "id": "5c6c4645",
   "metadata": {
    "ExecuteTime": {
     "end_time": "2022-12-28T19:02:51.878082Z",
     "start_time": "2022-12-28T19:02:51.858183Z"
    }
   },
   "outputs": [],
   "source": [
    "def simulate_portfolio_evol(balance,\n",
    "                            weights,\n",
    "                            anual_wr,\n",
    "                            growth_df,\n",
    "                            rebalance_on_month=12,\n",
    "                            tax=0.15):\n",
    "    \n",
    "    portfolio0 = {asset: w*balance for asset, w in weights.items()}\n",
    "    monthly_wr = anual_wr/12\n",
    "    \n",
    "    portifolios = [portfolio0]\n",
    "    \n",
    "    result = [merge(\n",
    "        portfolio0,\n",
    "        {\"ammount\": 0,\n",
    "         \"total\": balance,\n",
    "         \"date\": pd.to_datetime(\"1900-01-01\"),\n",
    "         \"ipca\": 0,\n",
    "         \"dolar_g\": 0,\n",
    "         \"sp500_g\": 0,\n",
    "         \"selic_g\": 0}\n",
    "    )]\n",
    "        \n",
    "        \n",
    "    for _, row in growth_df.iterrows():\n",
    "        month = row.to_dict()\n",
    "        p_prev = portifolios[-1]\n",
    "        \n",
    "        withdraw_result = withdraw(monthly_wr, month.get(\"ipca\"), weights, p_prev, tax=tax)\n",
    "        \n",
    "        p_grow = grow(withdraw_result.get(\"portfolio\"),\n",
    "                      selic=month.get(\"selic\"),\n",
    "                      sp500=month.get(\"sp500\"),\n",
    "                      dolar=month.get(\"dolar\"))\n",
    "        \n",
    "        if month.get(\"date\").month == rebalance_on_month:\n",
    "            p_grow = rebalance(p_grow, weights, tax=tax)\n",
    "        \n",
    "        portifolios.append(p_grow)\n",
    "        \n",
    "        result_dict = merge(p_grow,\n",
    "                            {\"ammount\": withdraw_result.get(\"ammount\"),\n",
    "                             \"total\": sum(portifolios[-1].values()),\n",
    "                             \"date\": month.get(\"date\"),\n",
    "                             \"ipca\": month.get(\"ipca\"),\n",
    "                             \"dolar_g\": month.get(\"dolar\"),\n",
    "                             \"sp500_g\": month.get(\"sp500\"),\n",
    "                             \"selic_g\": month.get(\"selic\")})\n",
    "        \n",
    "        result.append(result_dict)\n",
    "    \n",
    "    \n",
    "        \n",
    "    return pd.DataFrame(result).round({\"selic\":2, \"sp500\":2, \"ammount\":2, \"total\":2})\n",
    "\n"
   ]
  },
  {
   "cell_type": "code",
   "execution_count": null,
   "id": "654e900c",
   "metadata": {},
   "outputs": [],
   "source": []
  },
  {
   "cell_type": "code",
   "execution_count": 209,
   "id": "e0ac73c4",
   "metadata": {
    "ExecuteTime": {
     "end_time": "2022-12-28T17:17:06.583537Z",
     "start_time": "2022-12-28T17:17:06.559024Z"
    }
   },
   "outputs": [],
   "source": [
    "portifolios = [portfolio]\n",
    "result = [merge(\n",
    "    portfolio,\n",
    "    {\"ammount\": 0,\n",
    "     \"total\": balance,\n",
    "     \"date\": 0,\n",
    "     \"ipca\": 0,\n",
    "     \"dolar_g\": 0,\n",
    "     \"sp500_g\": 0,\n",
    "     \"selic_g\": 0,}\n",
    ")]\n",
    "\n",
    "for _, row in growth_data.iterrows():\n",
    "    month = row.to_dict()\n",
    "    p_prev = portifolios[-1]\n",
    "    \n",
    "    withdraw_result = withdraw(monthly_wr, month.get(\"ipca\"), weights, p_prev)\n",
    "    p_grow = grow(withdraw_result.get(\"portfolio\"),\n",
    "                  selic=month.get(\"selic\"), sp500=month.get(\"sp500\"), dolar=month.get(\"dolar\"))\n",
    "    \n",
    "    portifolios.append(p_grow)\n",
    "    result_dict = merge(p_grow,\n",
    "                        {\"ammount\": withdraw_result.get(\"ammount\"),\n",
    "                         \"total\": sum(p_grow.values()),\n",
    "                         \"date\": month.get(\"date\"),\n",
    "                         \"ipca\": month.get(\"ipca\"),\n",
    "                         \"dolar_g\": month.get(\"dolar\"),\n",
    "                         \"sp500_g\": month.get(\"sp500\"),\n",
    "                         \"selic_g\": month.get(\"selic\")})\n",
    "    \n",
    "    result.append(result_dict)\n",
    "    \n"
   ]
  },
  {
   "cell_type": "code",
   "execution_count": 362,
   "id": "e66ae456",
   "metadata": {
    "ExecuteTime": {
     "end_time": "2022-12-28T18:44:04.854891Z",
     "start_time": "2022-12-28T18:44:04.839538Z"
    }
   },
   "outputs": [
    {
     "name": "stdout",
     "output_type": "stream",
     "text": [
      "10.0\n"
     ]
    },
    {
     "data": {
      "text/plain": [
       "51.004999999999995"
      ]
     },
     "execution_count": 362,
     "metadata": {},
     "output_type": "execute_result"
    }
   ],
   "source": [
    "\n",
    "v0 = 50\n",
    "d0 = 5\n",
    "vd0 = v0/d0\n",
    "\n",
    "print(vd0)\n",
    "\n",
    "g = 0.01\n",
    "dg = 0.01\n",
    "\n",
    "vd0*(1+g) * (d0*(1+dg))"
   ]
  },
  {
   "cell_type": "code",
   "execution_count": 364,
   "id": "30a85fe3",
   "metadata": {
    "ExecuteTime": {
     "end_time": "2022-12-28T18:44:46.683250Z",
     "start_time": "2022-12-28T18:44:46.671678Z"
    }
   },
   "outputs": [
    {
     "data": {
      "text/plain": [
       "51.005"
      ]
     },
     "execution_count": 364,
     "metadata": {},
     "output_type": "execute_result"
    }
   ],
   "source": [
    "v0*(1+dg)*(1+g)"
   ]
  },
  {
   "cell_type": "code",
   "execution_count": 428,
   "id": "7d043d60",
   "metadata": {
    "ExecuteTime": {
     "end_time": "2022-12-28T19:05:57.566481Z",
     "start_time": "2022-12-28T19:05:57.554987Z"
    }
   },
   "outputs": [
    {
     "data": {
      "text/plain": [
       "5.0209354"
      ]
     },
     "execution_count": 428,
     "metadata": {},
     "output_type": "execute_result"
    }
   ],
   "source": [
    "6020935.40/1000000 - 1"
   ]
  },
  {
   "cell_type": "code",
   "execution_count": 431,
   "id": "34122194",
   "metadata": {
    "ExecuteTime": {
     "end_time": "2022-12-28T19:06:30.208516Z",
     "start_time": "2022-12-28T19:06:30.197766Z"
    }
   },
   "outputs": [
    {
     "data": {
      "text/plain": [
       "498261.44954154466"
      ]
     },
     "execution_count": 431,
     "metadata": {},
     "output_type": "execute_result"
    }
   ],
   "source": [
    "3000000/(5.0209354+1)"
   ]
  },
  {
   "cell_type": "code",
   "execution_count": null,
   "id": "a0f0fe5c",
   "metadata": {},
   "outputs": [],
   "source": []
  },
  {
   "cell_type": "code",
   "execution_count": null,
   "id": "82192d5f",
   "metadata": {},
   "outputs": [],
   "source": []
  },
  {
   "cell_type": "code",
   "execution_count": null,
   "id": "d8133b49",
   "metadata": {},
   "outputs": [],
   "source": []
  },
  {
   "cell_type": "markdown",
   "id": "003bcaa5",
   "metadata": {},
   "source": [
    "$$\n",
    "M_f = \\sum_{t}^T A(1+r)^{(5*12 - t)}\n",
    "$$\n",
    "\n",
    "$$\n",
    "M_f*r = A\n",
    "$$\n",
    "\n",
    "\n",
    "$$\n",
    "M_f = A/r\n",
    "$$\n",
    "\n"
   ]
  },
  {
   "cell_type": "code",
   "execution_count": 241,
   "id": "5f8de492",
   "metadata": {
    "ExecuteTime": {
     "end_time": "2022-12-28T17:42:35.871144Z",
     "start_time": "2022-12-28T17:42:35.860744Z"
    }
   },
   "outputs": [],
   "source": [
    "def check_r(r):\n",
    "    A = 100\n",
    "    Mf = sum([A*(1+r)**(5*12-t) for t in range(1, 5*12+1)])\n",
    "    needed_mf = A/r\n",
    "    print(Mf, needed_mf)\n",
    "    return Mf >= needed_mf"
   ]
  },
  {
   "cell_type": "code",
   "execution_count": 255,
   "id": "c3e0fb34",
   "metadata": {
    "ExecuteTime": {
     "end_time": "2022-12-28T17:45:29.652494Z",
     "start_time": "2022-12-28T17:45:29.640192Z"
    }
   },
   "outputs": [
    {
     "name": "stdout",
     "output_type": "stream",
     "text": [
      "6617.902362859201 30546.105265835064\n"
     ]
    },
    {
     "data": {
      "text/plain": [
       "False"
      ]
     },
     "execution_count": 255,
     "metadata": {},
     "output_type": "execute_result"
    }
   ],
   "source": [
    "check_r(anual_to_monthly_rate(0.04))"
   ]
  },
  {
   "cell_type": "code",
   "execution_count": 257,
   "id": "238a8322",
   "metadata": {
    "ExecuteTime": {
     "end_time": "2022-12-28T17:45:59.202239Z",
     "start_time": "2022-12-28T17:45:59.188810Z"
    }
   },
   "outputs": [
    {
     "name": "stdout",
     "output_type": "stream",
     "text": [
      "6617.902362859201 30546.105265835064\n",
      "0.04 False\n",
      "6781.3737915590655 24545.15505919425\n",
      "0.05 False\n",
      "6948.578613813823 20544.213903395237\n",
      "0.060000000000000005 False\n",
      "7119.585775008405 17686.13877930201\n",
      "0.07 False\n",
      "7294.465036312172 15542.358100644122\n",
      "0.08 False\n",
      "7473.286978732578 13874.776475769677\n",
      "0.09 False\n",
      "7656.123007153155 12540.536612263722\n",
      "0.09999999999999999 False\n",
      "7843.04535435653 11448.729273519348\n",
      "0.10999999999999999 False\n",
      "8034.127085032721 10538.748256960902\n",
      "0.11999999999999998 False\n",
      "8229.442099772983 9768.635382262868\n",
      "0.12999999999999998 False\n",
      "8429.065139050079 9108.420484568072\n",
      "0.13999999999999999 False\n",
      "8633.071787184886 8536.125410375644\n",
      "0.15 True\n"
     ]
    }
   ],
   "source": [
    "check = False\n",
    "r = 0.04\n",
    "while not(check):\n",
    "    check = check_r(anual_to_monthly_rate(r))\n",
    "    print(r, check)\n",
    "    r += 0.01"
   ]
  },
  {
   "cell_type": "code",
   "execution_count": null,
   "id": "ff2bccf8",
   "metadata": {},
   "outputs": [],
   "source": []
  }
 ],
 "metadata": {
  "kernelspec": {
   "display_name": "Python [conda env:root] *",
   "language": "python",
   "name": "conda-root-py"
  },
  "language_info": {
   "codemirror_mode": {
    "name": "ipython",
    "version": 3
   },
   "file_extension": ".py",
   "mimetype": "text/x-python",
   "name": "python",
   "nbconvert_exporter": "python",
   "pygments_lexer": "ipython3",
   "version": "3.7.12"
  },
  "toc": {
   "base_numbering": 1,
   "nav_menu": {},
   "number_sections": true,
   "sideBar": true,
   "skip_h1_title": false,
   "title_cell": "Table of Contents",
   "title_sidebar": "Contents",
   "toc_cell": false,
   "toc_position": {},
   "toc_section_display": true,
   "toc_window_display": false
  },
  "varInspector": {
   "cols": {
    "lenName": 16,
    "lenType": 16,
    "lenVar": 40
   },
   "kernels_config": {
    "python": {
     "delete_cmd_postfix": "",
     "delete_cmd_prefix": "del ",
     "library": "var_list.py",
     "varRefreshCmd": "print(var_dic_list())"
    },
    "r": {
     "delete_cmd_postfix": ") ",
     "delete_cmd_prefix": "rm(",
     "library": "var_list.r",
     "varRefreshCmd": "cat(var_dic_list()) "
    }
   },
   "types_to_exclude": [
    "module",
    "function",
    "builtin_function_or_method",
    "instance",
    "_Feature"
   ],
   "window_display": false
  }
 },
 "nbformat": 4,
 "nbformat_minor": 5
}
